{
 "cells": [
  {
   "cell_type": "markdown",
   "id": "5fd62f46-1eee-4537-b93c-dd48b21dfa00",
   "metadata": {},
   "source": [
    "# Azure Machine Learning - Sample Data Upload\n",
    "This notebook contains sample code to read and load data from the [Boston Home Prices dataset](http://lib.stat.cmu.edu/datasets/boston) and register as training and testing subsets in a target Azure Machine Learning workspace"
   ]
  },
  {
   "cell_type": "markdown",
   "id": "18ab5f2c-3920-4d48-9d39-7b9e5f20c5ce",
   "metadata": {},
   "source": [
    "### Establish connection to Azure Machine Learning workspace and default datastore"
   ]
  },
  {
   "cell_type": "code",
   "execution_count": null,
   "id": "910c3316-3450-453a-bb30-208fd51284be",
   "metadata": {},
   "outputs": [],
   "source": [
    "from azureml.core import Workspace, Dataset, Datastore\n",
    "import pandas as pd\n",
    "\n",
    "ws = Workspace.from_config()\n",
    "\n",
    "ds = ws.get_default_datastore()"
   ]
  },
  {
   "cell_type": "markdown",
   "id": "8e6d20be-f57c-4977-a981-3a36e93cbad7",
   "metadata": {},
   "source": [
    "### Load datasets from attached CSVs\n",
    "Note: Data has already been split into testing and training subsets for demo purposes"
   ]
  },
  {
   "cell_type": "code",
   "execution_count": null,
   "id": "ba2aa7d4-ccfd-4417-9abc-6de64f80b09e",
   "metadata": {},
   "outputs": [],
   "source": [
    "df1 = pd.read_csv('./data/BHP_Data_01.csv')\n",
    "df2 = pd.read_csv('./data/BHP_Data_02.csv')\n",
    "df_train = pd.concat([df1, df2])\n",
    "df_test = pd.read_csv('./data/BHP_Data_Test.csv')"
   ]
  },
  {
   "cell_type": "markdown",
   "id": "fdc4a35e-dc68-4b8e-8f65-9d3a0bb80b62",
   "metadata": {},
   "source": [
    "### Register train and test datasets into the Azure ML workspace"
   ]
  },
  {
   "cell_type": "code",
   "execution_count": null,
   "id": "00e6fd21-f8d4-4f51-9ccd-2ff910f94978",
   "metadata": {},
   "outputs": [],
   "source": [
    "bhp_train_dataset = Dataset.Tabular.register_pandas_dataframe(df_train, (ds, 'boston_home_price_training_data'), 'HomePrices-Training')\n",
    "bhp_test_dataset = Dataset.Tabular.register_pandas_dataframe(df_test, (ds, 'boston_home_price_testing_data'), 'HomePrices-Testing')"
   ]
  },
  {
   "cell_type": "markdown",
   "id": "6664968e-00ad-4648-875a-eee3e173344f",
   "metadata": {},
   "source": [
    "After executing the cells above you should see new datasets named `HomePrices-Training` and `HomePrices-Testing` in your Azure ML workspace. These can be used in SHAP demos both executing from code and from a Designer pipeline."
   ]
  }
 ],
 "metadata": {
  "kernelspec": {
   "display_name": "Python 3.8 - AzureML",
   "language": "python",
   "name": "python38-azureml"
  },
  "language_info": {
   "codemirror_mode": {
    "name": "ipython",
    "version": 3
   },
   "file_extension": ".py",
   "mimetype": "text/x-python",
   "name": "python",
   "nbconvert_exporter": "python",
   "pygments_lexer": "ipython3",
   "version": "3.8.5"
  }
 },
 "nbformat": 4,
 "nbformat_minor": 5
}
